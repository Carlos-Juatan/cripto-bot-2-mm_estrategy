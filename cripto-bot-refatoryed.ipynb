{
 "cells": [
  {
   "cell_type": "code",
   "execution_count": 35,
   "id": "239d2f39-4fb8-436f-9e88-25cdb15e0e90",
   "metadata": {},
   "outputs": [],
   "source": [
    "import pandas as pd\n",
    "import os \n",
    "import time \n",
    "from binance.client import Client\n",
    "from binance.enums import *"
   ]
  },
  {
   "cell_type": "code",
   "execution_count": 37,
   "id": "59c68f5a-f5de-4659-84bc-effec1f13263",
   "metadata": {},
   "outputs": [
    {
     "data": {
      "text/plain": [
       "True"
      ]
     },
     "execution_count": 37,
     "metadata": {},
     "output_type": "execute_result"
    }
   ],
   "source": [
    "from dotenv import load_dotenv\n",
    "load_dotenv()"
   ]
  },
  {
   "cell_type": "code",
   "execution_count": 39,
   "id": "e4ac6890-799c-488d-ba4c-795370db6516",
   "metadata": {},
   "outputs": [],
   "source": [
    "api_key = os.getenv(\"KEY_BINANCE\")\n",
    "secret_key = os.getenv(\"SECRET_BINANCE\")\n",
    "\n",
    "cliente_binance = Client(api_key, secret_key)"
   ]
  },
  {
   "cell_type": "code",
   "execution_count": 40,
   "id": "a402d344-6793-4133-bb5c-3880fc1b9c24",
   "metadata": {},
   "outputs": [],
   "source": [
    "codigo_operado = \"SOLBRL\"\n",
    "ativo_operado = \"SOL\"\n",
    "periodo_candle = Client.KLINE_INTERVAL_1HOUR\n",
    "quantidade = 0.015"
   ]
  },
  {
   "cell_type": "code",
   "execution_count": 45,
   "id": "1c721950-2e46-40d3-95d7-62d17da985fe",
   "metadata": {},
   "outputs": [],
   "source": [
    "def pegando_dados(codigo, intervalo):\n",
    "\n",
    "    candles = cliente_binance.get_klines(symbol = codigo, interval = intervalo, limit = 1000)\n",
    "    precos = pd.DataFrame(candles)\n",
    "    precos.columns = [\"tempo_abertura\", \"abertura\", \"maxima\", \"minima\", \"fechamento\", \"volume\", \"tempo_fechamento\", \"moedas_negociadas\", \"numero_trades\",\n",
    "                    \"volume_ativo_base_compra\", \"volume_ativo_cotação\", \"-\"]\n",
    "    precos = precos[[\"fechamento\", \"tempo_fechamento\"]]\n",
    "    precos[\"tempo_fechamento\"] = pd.to_datetime(precos[\"tempo_fechamento\"], unit = \"ms\").dt.tz_localize(\"UTC\")\n",
    "    precos[\"tempo_fechamento\"] = precos[\"tempo_fechamento\"].dt.tz_convert(\"America/Sao_Paulo\")\n",
    "\n",
    "    return precos"
   ]
  },
  {
   "cell_type": "code",
   "execution_count": 47,
   "id": "0f99c08e-020f-422c-9994-e364b381912f",
   "metadata": {},
   "outputs": [
    {
     "data": {
      "text/html": [
       "<div>\n",
       "<style scoped>\n",
       "    .dataframe tbody tr th:only-of-type {\n",
       "        vertical-align: middle;\n",
       "    }\n",
       "\n",
       "    .dataframe tbody tr th {\n",
       "        vertical-align: top;\n",
       "    }\n",
       "\n",
       "    .dataframe thead th {\n",
       "        text-align: right;\n",
       "    }\n",
       "</style>\n",
       "<table border=\"1\" class=\"dataframe\">\n",
       "  <thead>\n",
       "    <tr style=\"text-align: right;\">\n",
       "      <th></th>\n",
       "      <th>fechamento</th>\n",
       "      <th>tempo_fechamento</th>\n",
       "    </tr>\n",
       "  </thead>\n",
       "  <tbody>\n",
       "    <tr>\n",
       "      <th>0</th>\n",
       "      <td>1070.10000000</td>\n",
       "      <td>2024-11-07 00:59:59.999000-03:00</td>\n",
       "    </tr>\n",
       "    <tr>\n",
       "      <th>1</th>\n",
       "      <td>1069.50000000</td>\n",
       "      <td>2024-11-07 01:59:59.999000-03:00</td>\n",
       "    </tr>\n",
       "    <tr>\n",
       "      <th>2</th>\n",
       "      <td>1068.50000000</td>\n",
       "      <td>2024-11-07 02:59:59.999000-03:00</td>\n",
       "    </tr>\n",
       "    <tr>\n",
       "      <th>3</th>\n",
       "      <td>1062.80000000</td>\n",
       "      <td>2024-11-07 03:59:59.999000-03:00</td>\n",
       "    </tr>\n",
       "    <tr>\n",
       "      <th>4</th>\n",
       "      <td>1066.40000000</td>\n",
       "      <td>2024-11-07 04:59:59.999000-03:00</td>\n",
       "    </tr>\n",
       "    <tr>\n",
       "      <th>...</th>\n",
       "      <td>...</td>\n",
       "      <td>...</td>\n",
       "    </tr>\n",
       "    <tr>\n",
       "      <th>995</th>\n",
       "      <td>1331.50000000</td>\n",
       "      <td>2024-12-18 11:59:59.999000-03:00</td>\n",
       "    </tr>\n",
       "    <tr>\n",
       "      <th>996</th>\n",
       "      <td>1351.10000000</td>\n",
       "      <td>2024-12-18 12:59:59.999000-03:00</td>\n",
       "    </tr>\n",
       "    <tr>\n",
       "      <th>997</th>\n",
       "      <td>1343.20000000</td>\n",
       "      <td>2024-12-18 13:59:59.999000-03:00</td>\n",
       "    </tr>\n",
       "    <tr>\n",
       "      <th>998</th>\n",
       "      <td>1348.60000000</td>\n",
       "      <td>2024-12-18 14:59:59.999000-03:00</td>\n",
       "    </tr>\n",
       "    <tr>\n",
       "      <th>999</th>\n",
       "      <td>1350.90000000</td>\n",
       "      <td>2024-12-18 15:59:59.999000-03:00</td>\n",
       "    </tr>\n",
       "  </tbody>\n",
       "</table>\n",
       "<p>1000 rows × 2 columns</p>\n",
       "</div>"
      ],
      "text/plain": [
       "        fechamento                 tempo_fechamento\n",
       "0    1070.10000000 2024-11-07 00:59:59.999000-03:00\n",
       "1    1069.50000000 2024-11-07 01:59:59.999000-03:00\n",
       "2    1068.50000000 2024-11-07 02:59:59.999000-03:00\n",
       "3    1062.80000000 2024-11-07 03:59:59.999000-03:00\n",
       "4    1066.40000000 2024-11-07 04:59:59.999000-03:00\n",
       "..             ...                              ...\n",
       "995  1331.50000000 2024-12-18 11:59:59.999000-03:00\n",
       "996  1351.10000000 2024-12-18 12:59:59.999000-03:00\n",
       "997  1343.20000000 2024-12-18 13:59:59.999000-03:00\n",
       "998  1348.60000000 2024-12-18 14:59:59.999000-03:00\n",
       "999  1350.90000000 2024-12-18 15:59:59.999000-03:00\n",
       "\n",
       "[1000 rows x 2 columns]"
      ]
     },
     "execution_count": 47,
     "metadata": {},
     "output_type": "execute_result"
    }
   ],
   "source": [
    "pegando_dados(codigo_operado, periodo_candle)"
   ]
  },
  {
   "cell_type": "code",
   "execution_count": 48,
   "id": "aa61369d-74b0-4f8a-b112-f5e0ceb04993",
   "metadata": {},
   "outputs": [],
   "source": [
    "def estrategia_trade(dados, codigo_ativo, ativo_operado, quantidade, posicao):\n",
    "\n",
    "    dados[\"media_rapida\"] = dados[\"fechamento\"].rolling(window = 7).mean()\n",
    "    dados[\"media_devagar\"] = dados[\"fechamento\"].rolling(window = 40).mean()\n",
    "\n",
    "    ultima_media_rapida = dados[\"media_rapida\"].iloc[-1]\n",
    "    ultima_media_devagar = dados[\"media_devagar\"].iloc[-1]\n",
    "\n",
    "    print(f\"Última Média Rápida: {ultima_media_rapida} | Última Média Devagar: {ultima_media_devagar}\")\n",
    "\n",
    "    conta = cliente_binance.get_account()\n",
    "\n",
    "    for ativo in conta[\"balances\"]:\n",
    "\n",
    "        if ativo[\"asset\"] == ativo_operado:\n",
    "\n",
    "            quantidade_atual = float(ativo[\"free\"])\n",
    "\n",
    "    if ultima_media_rapida > ultima_media_devagar:\n",
    "\n",
    "        if posicao == False:\n",
    "\n",
    "            #order = cliente_binance.create_order(symbol = codigo_ativo, side = SIDE_BUY, type = ORDER_TYPE_MARKET, quantity = quantidade)\n",
    "            \n",
    "            print(\"COMPROU O ATIVO\")\n",
    "\n",
    "            posicao = True\n",
    "\n",
    "    elif ultima_media_rapida < ultima_media_devagar:\n",
    "\n",
    "        if posicao == True:\n",
    "\n",
    "            #order = cliente_binance.create_order(symbol = codigo_ativo, side = SIDE_SELL, type = ORDER_TYPE_MARKET,quantity = int(quantidade_atual * 1000)/1000)\n",
    "            \n",
    "            print(\"VENDER O ATIVO\")\n",
    "\n",
    "            posicao = False\n",
    "\n",
    "    return posicao"
   ]
  },
  {
   "cell_type": "code",
   "execution_count": 51,
   "id": "5fb194a6-1676-4ecd-afc8-4a74f36e8e27",
   "metadata": {},
   "outputs": [],
   "source": [
    "posicao_atual = True"
   ]
  },
  {
   "cell_type": "code",
   "execution_count": 55,
   "id": "2b0f3153-e966-46be-b85a-76f74330efcc",
   "metadata": {},
   "outputs": [
    {
     "name": "stdout",
     "output_type": "stream",
     "text": [
      "Última Média Rápida: 1342.3999999999999 | Última Média Devagar: 1351.735\n"
     ]
    },
    {
     "ename": "BinanceAPIException",
     "evalue": "APIError(code=-1013): Invalid quantity.",
     "output_type": "error",
     "traceback": [
      "\u001b[1;31m---------------------------------------------------------------------------\u001b[0m",
      "\u001b[1;31mBinanceAPIException\u001b[0m                       Traceback (most recent call last)",
      "Cell \u001b[1;32mIn[55], line 3\u001b[0m\n\u001b[0;32m      1\u001b[0m \u001b[38;5;28;01mwhile\u001b[39;00m \u001b[38;5;28;01mTrue\u001b[39;00m:\n\u001b[0;32m      2\u001b[0m     dados_atualizados \u001b[38;5;241m=\u001b[39m pegando_dados(codigo\u001b[38;5;241m=\u001b[39mcodigo_operado, intervalo\u001b[38;5;241m=\u001b[39mperiodo_candle)\n\u001b[1;32m----> 3\u001b[0m     posicao_atual \u001b[38;5;241m=\u001b[39m estrategia_trade(dados_atualizados, codigo_ativo\u001b[38;5;241m=\u001b[39mcodigo_operado, ativo_operado\u001b[38;5;241m=\u001b[39mativo_operado, quantidade\u001b[38;5;241m=\u001b[39mquantidade, posicao\u001b[38;5;241m=\u001b[39mposicao_atual)\n\u001b[0;32m      4\u001b[0m     time\u001b[38;5;241m.\u001b[39msleep(\u001b[38;5;241m60\u001b[39m \u001b[38;5;241m*\u001b[39m \u001b[38;5;241m20\u001b[39m)\n",
      "Cell \u001b[1;32mIn[48], line 38\u001b[0m, in \u001b[0;36mestrategia_trade\u001b[1;34m(dados, codigo_ativo, ativo_operado, quantidade, posicao)\u001b[0m\n\u001b[0;32m     34\u001b[0m \u001b[38;5;28;01melif\u001b[39;00m ultima_media_rapida \u001b[38;5;241m<\u001b[39m ultima_media_devagar:\n\u001b[0;32m     36\u001b[0m     \u001b[38;5;28;01mif\u001b[39;00m posicao \u001b[38;5;241m==\u001b[39m \u001b[38;5;28;01mTrue\u001b[39;00m:\n\u001b[1;32m---> 38\u001b[0m         order \u001b[38;5;241m=\u001b[39m cliente_binance\u001b[38;5;241m.\u001b[39mcreate_order(symbol \u001b[38;5;241m=\u001b[39m codigo_ativo,\n\u001b[0;32m     39\u001b[0m             side \u001b[38;5;241m=\u001b[39m SIDE_SELL,\n\u001b[0;32m     40\u001b[0m             \u001b[38;5;28mtype\u001b[39m \u001b[38;5;241m=\u001b[39m ORDER_TYPE_MARKET,\n\u001b[0;32m     41\u001b[0m             quantity \u001b[38;5;241m=\u001b[39m \u001b[38;5;28mint\u001b[39m(quantidade_atual \u001b[38;5;241m*\u001b[39m \u001b[38;5;241m1000\u001b[39m)\u001b[38;5;241m/\u001b[39m\u001b[38;5;241m1000\u001b[39m)\n\u001b[0;32m     43\u001b[0m         \u001b[38;5;28mprint\u001b[39m(\u001b[38;5;124m\"\u001b[39m\u001b[38;5;124mVENDER O ATIVO\u001b[39m\u001b[38;5;124m\"\u001b[39m)\n\u001b[0;32m     45\u001b[0m         posicao \u001b[38;5;241m=\u001b[39m \u001b[38;5;28;01mFalse\u001b[39;00m\n",
      "File \u001b[1;32m~\\anaconda3\\Lib\\site-packages\\binance\\client.py:1319\u001b[0m, in \u001b[0;36mClient.create_order\u001b[1;34m(self, **params)\u001b[0m\n\u001b[0;32m   1317\u001b[0m \u001b[38;5;28;01mif\u001b[39;00m \u001b[38;5;124m\"\u001b[39m\u001b[38;5;124mnewClientOrderId\u001b[39m\u001b[38;5;124m\"\u001b[39m \u001b[38;5;129;01mnot\u001b[39;00m \u001b[38;5;129;01min\u001b[39;00m params:\n\u001b[0;32m   1318\u001b[0m     params[\u001b[38;5;124m\"\u001b[39m\u001b[38;5;124mnewClientOrderId\u001b[39m\u001b[38;5;124m\"\u001b[39m] \u001b[38;5;241m=\u001b[39m \u001b[38;5;28mself\u001b[39m\u001b[38;5;241m.\u001b[39mSPOT_ORDER_PREFIX \u001b[38;5;241m+\u001b[39m \u001b[38;5;28mself\u001b[39m\u001b[38;5;241m.\u001b[39muuid22()\n\u001b[1;32m-> 1319\u001b[0m \u001b[38;5;28;01mreturn\u001b[39;00m \u001b[38;5;28mself\u001b[39m\u001b[38;5;241m.\u001b[39m_post(\u001b[38;5;124m\"\u001b[39m\u001b[38;5;124morder\u001b[39m\u001b[38;5;124m\"\u001b[39m, \u001b[38;5;28;01mTrue\u001b[39;00m, data\u001b[38;5;241m=\u001b[39mparams)\n",
      "File \u001b[1;32m~\\anaconda3\\Lib\\site-packages\\binance\\client.py:167\u001b[0m, in \u001b[0;36mClient._post\u001b[1;34m(self, path, signed, version, **kwargs)\u001b[0m\n\u001b[0;32m    164\u001b[0m \u001b[38;5;28;01mdef\u001b[39;00m \u001b[38;5;21m_post\u001b[39m(\n\u001b[0;32m    165\u001b[0m     \u001b[38;5;28mself\u001b[39m, path, signed\u001b[38;5;241m=\u001b[39m\u001b[38;5;28;01mFalse\u001b[39;00m, version\u001b[38;5;241m=\u001b[39mBaseClient\u001b[38;5;241m.\u001b[39mPUBLIC_API_VERSION, \u001b[38;5;241m*\u001b[39m\u001b[38;5;241m*\u001b[39mkwargs\n\u001b[0;32m    166\u001b[0m ) \u001b[38;5;241m-\u001b[39m\u001b[38;5;241m>\u001b[39m Dict:\n\u001b[1;32m--> 167\u001b[0m     \u001b[38;5;28;01mreturn\u001b[39;00m \u001b[38;5;28mself\u001b[39m\u001b[38;5;241m.\u001b[39m_request_api(\u001b[38;5;124m\"\u001b[39m\u001b[38;5;124mpost\u001b[39m\u001b[38;5;124m\"\u001b[39m, path, signed, version, \u001b[38;5;241m*\u001b[39m\u001b[38;5;241m*\u001b[39mkwargs)\n",
      "File \u001b[1;32m~\\anaconda3\\Lib\\site-packages\\binance\\client.py:99\u001b[0m, in \u001b[0;36mClient._request_api\u001b[1;34m(self, method, path, signed, version, **kwargs)\u001b[0m\n\u001b[0;32m     90\u001b[0m \u001b[38;5;28;01mdef\u001b[39;00m \u001b[38;5;21m_request_api\u001b[39m(\n\u001b[0;32m     91\u001b[0m     \u001b[38;5;28mself\u001b[39m,\n\u001b[0;32m     92\u001b[0m     method,\n\u001b[1;32m   (...)\u001b[0m\n\u001b[0;32m     96\u001b[0m     \u001b[38;5;241m*\u001b[39m\u001b[38;5;241m*\u001b[39mkwargs,\n\u001b[0;32m     97\u001b[0m ):\n\u001b[0;32m     98\u001b[0m     uri \u001b[38;5;241m=\u001b[39m \u001b[38;5;28mself\u001b[39m\u001b[38;5;241m.\u001b[39m_create_api_uri(path, signed, version)\n\u001b[1;32m---> 99\u001b[0m     \u001b[38;5;28;01mreturn\u001b[39;00m \u001b[38;5;28mself\u001b[39m\u001b[38;5;241m.\u001b[39m_request(method, uri, signed, \u001b[38;5;241m*\u001b[39m\u001b[38;5;241m*\u001b[39mkwargs)\n",
      "File \u001b[1;32m~\\anaconda3\\Lib\\site-packages\\binance\\client.py:75\u001b[0m, in \u001b[0;36mClient._request\u001b[1;34m(self, method, uri, signed, force_params, **kwargs)\u001b[0m\n\u001b[0;32m     72\u001b[0m kwargs \u001b[38;5;241m=\u001b[39m \u001b[38;5;28mself\u001b[39m\u001b[38;5;241m.\u001b[39m_get_request_kwargs(method, signed, force_params, \u001b[38;5;241m*\u001b[39m\u001b[38;5;241m*\u001b[39mkwargs)\n\u001b[0;32m     74\u001b[0m \u001b[38;5;28mself\u001b[39m\u001b[38;5;241m.\u001b[39mresponse \u001b[38;5;241m=\u001b[39m \u001b[38;5;28mgetattr\u001b[39m(\u001b[38;5;28mself\u001b[39m\u001b[38;5;241m.\u001b[39msession, method)(uri, headers\u001b[38;5;241m=\u001b[39mheaders, \u001b[38;5;241m*\u001b[39m\u001b[38;5;241m*\u001b[39mkwargs)\n\u001b[1;32m---> 75\u001b[0m \u001b[38;5;28;01mreturn\u001b[39;00m \u001b[38;5;28mself\u001b[39m\u001b[38;5;241m.\u001b[39m_handle_response(\u001b[38;5;28mself\u001b[39m\u001b[38;5;241m.\u001b[39mresponse)\n",
      "File \u001b[1;32m~\\anaconda3\\Lib\\site-packages\\binance\\client.py:84\u001b[0m, in \u001b[0;36mClient._handle_response\u001b[1;34m(response)\u001b[0m\n\u001b[0;32m     79\u001b[0m \u001b[38;5;250m\u001b[39m\u001b[38;5;124;03m\"\"\"Internal helper for handling API responses from the Binance server.\u001b[39;00m\n\u001b[0;32m     80\u001b[0m \u001b[38;5;124;03mRaises the appropriate exceptions when necessary; otherwise, returns the\u001b[39;00m\n\u001b[0;32m     81\u001b[0m \u001b[38;5;124;03mresponse.\u001b[39;00m\n\u001b[0;32m     82\u001b[0m \u001b[38;5;124;03m\"\"\"\u001b[39;00m\n\u001b[0;32m     83\u001b[0m \u001b[38;5;28;01mif\u001b[39;00m \u001b[38;5;129;01mnot\u001b[39;00m (\u001b[38;5;241m200\u001b[39m \u001b[38;5;241m<\u001b[39m\u001b[38;5;241m=\u001b[39m response\u001b[38;5;241m.\u001b[39mstatus_code \u001b[38;5;241m<\u001b[39m \u001b[38;5;241m300\u001b[39m):\n\u001b[1;32m---> 84\u001b[0m     \u001b[38;5;28;01mraise\u001b[39;00m BinanceAPIException(response, response\u001b[38;5;241m.\u001b[39mstatus_code, response\u001b[38;5;241m.\u001b[39mtext)\n\u001b[0;32m     85\u001b[0m \u001b[38;5;28;01mtry\u001b[39;00m:\n\u001b[0;32m     86\u001b[0m     \u001b[38;5;28;01mreturn\u001b[39;00m response\u001b[38;5;241m.\u001b[39mjson()\n",
      "\u001b[1;31mBinanceAPIException\u001b[0m: APIError(code=-1013): Invalid quantity."
     ]
    }
   ],
   "source": [
    "while True:\n",
    "    dados_atualizados = pegando_dados(codigo=codigo_operado, intervalo=periodo_candle)\n",
    "    posicao_atual = estrategia_trade(dados_atualizados, codigo_ativo=codigo_operado, ativo_operado=ativo_operado, quantidade=quantidade, posicao=posicao_atual)\n",
    "    time.sleep(60 * 20)"
   ]
  },
  {
   "cell_type": "code",
   "execution_count": null,
   "id": "f2ec9dba-aab7-43ac-8980-322bf0d7f3f9",
   "metadata": {},
   "outputs": [],
   "source": []
  }
 ],
 "metadata": {
  "kernelspec": {
   "display_name": "Python [conda env:base] *",
   "language": "python",
   "name": "conda-base-py"
  },
  "language_info": {
   "codemirror_mode": {
    "name": "ipython",
    "version": 3
   },
   "file_extension": ".py",
   "mimetype": "text/x-python",
   "name": "python",
   "nbconvert_exporter": "python",
   "pygments_lexer": "ipython3",
   "version": "3.12.7"
  }
 },
 "nbformat": 4,
 "nbformat_minor": 5
}
